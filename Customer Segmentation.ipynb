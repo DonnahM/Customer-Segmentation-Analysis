{
 "cells": [
  {
   "cell_type": "markdown",
   "id": "106c1801",
   "metadata": {},
   "source": [
    "# Customer Segmentation Analysis"
   ]
  },
  {
   "cell_type": "markdown",
   "id": "20bd84fa",
   "metadata": {},
   "source": [
    "## Business Understanding"
   ]
  },
  {
   "cell_type": "markdown",
   "id": "8e469808",
   "metadata": {},
   "source": [
    "### Problem Statement"
   ]
  },
  {
   "cell_type": "markdown",
   "id": "b2572089",
   "metadata": {},
   "source": [
    "Businesses often struggle to understand the diverse needs and behaviors of their customer base. A one-size-fits-all approach to marketing and customer engagement can lead to suboptimal results. By segmenting customers based on their demographic and behavioral data, businesses can tailor their marketing efforts to meet the specific needs of each segment, thereby enhancing customer satisfaction and boosting sales."
   ]
  },
  {
   "cell_type": "markdown",
   "id": "76c438bc",
   "metadata": {},
   "source": [
    "## Main Objective"
   ]
  },
  {
   "cell_type": "markdown",
   "id": "82421dad",
   "metadata": {},
   "source": [
    "To analyze customer data to identify distinct segments within the customer base. This segmentation will help in developing targeted marketing strategies, improving customer satisfaction, and increasing sales."
   ]
  },
  {
   "cell_type": "markdown",
   "id": "2db67984",
   "metadata": {},
   "source": [
    "#### Key Objectives"
   ]
  },
  {
   "cell_type": "markdown",
   "id": "7b578e7f",
   "metadata": {},
   "source": [
    "- Analyze the demographic and behavioral traits of each segment to understand their preferences and needs.\n",
    "\n",
    "- Create customized marketing and engagement strategies for each segment to improve customer satisfaction and increase sales.\n",
    "\n",
    "- Describe each segment based on key demographic and behavioral attributes.\n",
    "\n",
    "- Provide recommendations for targeted marketing and customer engagement strategies."
   ]
  },
  {
   "cell_type": "markdown",
   "id": "d586fd3b",
   "metadata": {},
   "source": [
    "## Data Understanding"
   ]
  },
  {
   "cell_type": "markdown",
   "id": "65442c75",
   "metadata": {},
   "source": [
    "This dataset was extracted from Kaggle\n"
   ]
  },
  {
   "cell_type": "markdown",
   "id": "81c89c36",
   "metadata": {},
   "source": [
    "- Dataset Size: 1000 rows, 9 columns\n",
    "\n",
    "Column Types:\n",
    "\n",
    "- Numeric: id, age, income, spending_score, membership_years, purchase_frequency, last_purchase_amount\n",
    "\n",
    "- Categorical: gender, preferred_category"
   ]
  },
  {
   "cell_type": "markdown",
   "id": "4d4d31bb",
   "metadata": {},
   "source": [
    "- id: Unique identifier for each customer.\n",
    "- age: Age of the customer.\n",
    "- gender: Gender of the customer (Male, Female, Other).\n",
    "- income: Annual income of the customer (in USD).\n",
    "- spending_score: Spending score (1-100), indicating the customer's spending behavior and loyalty.\n",
    "- membership_years: Number of years the customer has been a member.\n",
    "- purchase_frequency: Number of purchases made by the customer in the last year.\n",
    "- preferred_category: Preferred shopping category (Electronics, Clothing, Groceries, Home & Garden, Sports).\n",
    "- last_purchase_amount: Amount spent by the customer on their last purchase (in USD)."
   ]
  },
  {
   "cell_type": "markdown",
   "id": "e987d90c",
   "metadata": {},
   "source": [
    "## Data Preparation"
   ]
  },
  {
   "cell_type": "code",
   "execution_count": 1,
   "id": "cca8e6ab",
   "metadata": {},
   "outputs": [],
   "source": [
    "#import necessary libraries\n",
    "import pandas as pd \n",
    "import numpy as np\n",
    "from sklearn.preprocessing import LabelEncoder\n",
    "import matplotlib.pyplot as plt\n",
    "%matplotlib inline\n",
    "import seaborn as sns"
   ]
  },
  {
   "cell_type": "code",
   "execution_count": 2,
   "id": "d87c7fc7",
   "metadata": {},
   "outputs": [
    {
     "data": {
      "text/html": [
       "<div>\n",
       "<style scoped>\n",
       "    .dataframe tbody tr th:only-of-type {\n",
       "        vertical-align: middle;\n",
       "    }\n",
       "\n",
       "    .dataframe tbody tr th {\n",
       "        vertical-align: top;\n",
       "    }\n",
       "\n",
       "    .dataframe thead th {\n",
       "        text-align: right;\n",
       "    }\n",
       "</style>\n",
       "<table border=\"1\" class=\"dataframe\">\n",
       "  <thead>\n",
       "    <tr style=\"text-align: right;\">\n",
       "      <th></th>\n",
       "      <th>id</th>\n",
       "      <th>age</th>\n",
       "      <th>gender</th>\n",
       "      <th>income</th>\n",
       "      <th>spending_score</th>\n",
       "      <th>membership_years</th>\n",
       "      <th>purchase_frequency</th>\n",
       "      <th>preferred_category</th>\n",
       "      <th>last_purchase_amount</th>\n",
       "    </tr>\n",
       "  </thead>\n",
       "  <tbody>\n",
       "    <tr>\n",
       "      <th>0</th>\n",
       "      <td>1</td>\n",
       "      <td>38</td>\n",
       "      <td>Female</td>\n",
       "      <td>99342</td>\n",
       "      <td>90</td>\n",
       "      <td>3</td>\n",
       "      <td>24</td>\n",
       "      <td>Groceries</td>\n",
       "      <td>113.53</td>\n",
       "    </tr>\n",
       "    <tr>\n",
       "      <th>1</th>\n",
       "      <td>2</td>\n",
       "      <td>21</td>\n",
       "      <td>Female</td>\n",
       "      <td>78852</td>\n",
       "      <td>60</td>\n",
       "      <td>2</td>\n",
       "      <td>42</td>\n",
       "      <td>Sports</td>\n",
       "      <td>41.93</td>\n",
       "    </tr>\n",
       "    <tr>\n",
       "      <th>2</th>\n",
       "      <td>3</td>\n",
       "      <td>60</td>\n",
       "      <td>Female</td>\n",
       "      <td>126573</td>\n",
       "      <td>30</td>\n",
       "      <td>2</td>\n",
       "      <td>28</td>\n",
       "      <td>Clothing</td>\n",
       "      <td>424.36</td>\n",
       "    </tr>\n",
       "    <tr>\n",
       "      <th>3</th>\n",
       "      <td>4</td>\n",
       "      <td>40</td>\n",
       "      <td>Other</td>\n",
       "      <td>47099</td>\n",
       "      <td>74</td>\n",
       "      <td>9</td>\n",
       "      <td>5</td>\n",
       "      <td>Home &amp; Garden</td>\n",
       "      <td>991.93</td>\n",
       "    </tr>\n",
       "    <tr>\n",
       "      <th>4</th>\n",
       "      <td>5</td>\n",
       "      <td>65</td>\n",
       "      <td>Female</td>\n",
       "      <td>140621</td>\n",
       "      <td>21</td>\n",
       "      <td>3</td>\n",
       "      <td>25</td>\n",
       "      <td>Electronics</td>\n",
       "      <td>347.08</td>\n",
       "    </tr>\n",
       "  </tbody>\n",
       "</table>\n",
       "</div>"
      ],
      "text/plain": [
       "   id  age  gender  income  spending_score  membership_years  \\\n",
       "0   1   38  Female   99342              90                 3   \n",
       "1   2   21  Female   78852              60                 2   \n",
       "2   3   60  Female  126573              30                 2   \n",
       "3   4   40   Other   47099              74                 9   \n",
       "4   5   65  Female  140621              21                 3   \n",
       "\n",
       "   purchase_frequency preferred_category  last_purchase_amount  \n",
       "0                  24          Groceries                113.53  \n",
       "1                  42             Sports                 41.93  \n",
       "2                  28           Clothing                424.36  \n",
       "3                   5      Home & Garden                991.93  \n",
       "4                  25        Electronics                347.08  "
      ]
     },
     "execution_count": 2,
     "metadata": {},
     "output_type": "execute_result"
    }
   ],
   "source": [
    "df = pd.read_csv('customer_segmentation_data.csv')\n",
    "#first five rows\n",
    "df.head()"
   ]
  },
  {
   "cell_type": "code",
   "execution_count": 3,
   "id": "84bee0fe",
   "metadata": {},
   "outputs": [
    {
     "data": {
      "text/html": [
       "<div>\n",
       "<style scoped>\n",
       "    .dataframe tbody tr th:only-of-type {\n",
       "        vertical-align: middle;\n",
       "    }\n",
       "\n",
       "    .dataframe tbody tr th {\n",
       "        vertical-align: top;\n",
       "    }\n",
       "\n",
       "    .dataframe thead th {\n",
       "        text-align: right;\n",
       "    }\n",
       "</style>\n",
       "<table border=\"1\" class=\"dataframe\">\n",
       "  <thead>\n",
       "    <tr style=\"text-align: right;\">\n",
       "      <th></th>\n",
       "      <th>id</th>\n",
       "      <th>age</th>\n",
       "      <th>gender</th>\n",
       "      <th>income</th>\n",
       "      <th>spending_score</th>\n",
       "      <th>membership_years</th>\n",
       "      <th>purchase_frequency</th>\n",
       "      <th>preferred_category</th>\n",
       "      <th>last_purchase_amount</th>\n",
       "    </tr>\n",
       "  </thead>\n",
       "  <tbody>\n",
       "    <tr>\n",
       "      <th>995</th>\n",
       "      <td>996</td>\n",
       "      <td>57</td>\n",
       "      <td>Male</td>\n",
       "      <td>112170</td>\n",
       "      <td>57</td>\n",
       "      <td>6</td>\n",
       "      <td>1</td>\n",
       "      <td>Clothing</td>\n",
       "      <td>313.64</td>\n",
       "    </tr>\n",
       "    <tr>\n",
       "      <th>996</th>\n",
       "      <td>997</td>\n",
       "      <td>23</td>\n",
       "      <td>Other</td>\n",
       "      <td>65337</td>\n",
       "      <td>76</td>\n",
       "      <td>10</td>\n",
       "      <td>23</td>\n",
       "      <td>Groceries</td>\n",
       "      <td>632.83</td>\n",
       "    </tr>\n",
       "    <tr>\n",
       "      <th>997</th>\n",
       "      <td>998</td>\n",
       "      <td>23</td>\n",
       "      <td>Male</td>\n",
       "      <td>113097</td>\n",
       "      <td>40</td>\n",
       "      <td>5</td>\n",
       "      <td>42</td>\n",
       "      <td>Sports</td>\n",
       "      <td>75.09</td>\n",
       "    </tr>\n",
       "    <tr>\n",
       "      <th>998</th>\n",
       "      <td>999</td>\n",
       "      <td>22</td>\n",
       "      <td>Female</td>\n",
       "      <td>113695</td>\n",
       "      <td>63</td>\n",
       "      <td>7</td>\n",
       "      <td>44</td>\n",
       "      <td>Electronics</td>\n",
       "      <td>505.16</td>\n",
       "    </tr>\n",
       "    <tr>\n",
       "      <th>999</th>\n",
       "      <td>1000</td>\n",
       "      <td>36</td>\n",
       "      <td>Female</td>\n",
       "      <td>90420</td>\n",
       "      <td>7</td>\n",
       "      <td>2</td>\n",
       "      <td>31</td>\n",
       "      <td>Groceries</td>\n",
       "      <td>669.26</td>\n",
       "    </tr>\n",
       "  </tbody>\n",
       "</table>\n",
       "</div>"
      ],
      "text/plain": [
       "       id  age  gender  income  spending_score  membership_years  \\\n",
       "995   996   57    Male  112170              57                 6   \n",
       "996   997   23   Other   65337              76                10   \n",
       "997   998   23    Male  113097              40                 5   \n",
       "998   999   22  Female  113695              63                 7   \n",
       "999  1000   36  Female   90420               7                 2   \n",
       "\n",
       "     purchase_frequency preferred_category  last_purchase_amount  \n",
       "995                   1           Clothing                313.64  \n",
       "996                  23          Groceries                632.83  \n",
       "997                  42             Sports                 75.09  \n",
       "998                  44        Electronics                505.16  \n",
       "999                  31          Groceries                669.26  "
      ]
     },
     "execution_count": 3,
     "metadata": {},
     "output_type": "execute_result"
    }
   ],
   "source": [
    "#last 5 rows\n",
    "df.tail()"
   ]
  },
  {
   "cell_type": "code",
   "execution_count": 5,
   "id": "de18af3e",
   "metadata": {},
   "outputs": [
    {
     "data": {
      "text/plain": [
       "(1000, 9)"
      ]
     },
     "execution_count": 5,
     "metadata": {},
     "output_type": "execute_result"
    }
   ],
   "source": [
    "#number of rows and columns\n",
    "df.shape"
   ]
  },
  {
   "cell_type": "code",
   "execution_count": 7,
   "id": "532bddc1",
   "metadata": {},
   "outputs": [
    {
     "name": "stdout",
     "output_type": "stream",
     "text": [
      "<class 'pandas.core.frame.DataFrame'>\n",
      "RangeIndex: 1000 entries, 0 to 999\n",
      "Data columns (total 9 columns):\n",
      " #   Column                Non-Null Count  Dtype  \n",
      "---  ------                --------------  -----  \n",
      " 0   id                    1000 non-null   int64  \n",
      " 1   age                   1000 non-null   int64  \n",
      " 2   gender                1000 non-null   object \n",
      " 3   income                1000 non-null   int64  \n",
      " 4   spending_score        1000 non-null   int64  \n",
      " 5   membership_years      1000 non-null   int64  \n",
      " 6   purchase_frequency    1000 non-null   int64  \n",
      " 7   preferred_category    1000 non-null   object \n",
      " 8   last_purchase_amount  1000 non-null   float64\n",
      "dtypes: float64(1), int64(6), object(2)\n",
      "memory usage: 70.4+ KB\n"
     ]
    }
   ],
   "source": [
    "#information on the dataset\n",
    "df.info()"
   ]
  },
  {
   "cell_type": "code",
   "execution_count": 8,
   "id": "93478dc9",
   "metadata": {},
   "outputs": [
    {
     "data": {
      "text/html": [
       "<div>\n",
       "<style scoped>\n",
       "    .dataframe tbody tr th:only-of-type {\n",
       "        vertical-align: middle;\n",
       "    }\n",
       "\n",
       "    .dataframe tbody tr th {\n",
       "        vertical-align: top;\n",
       "    }\n",
       "\n",
       "    .dataframe thead th {\n",
       "        text-align: right;\n",
       "    }\n",
       "</style>\n",
       "<table border=\"1\" class=\"dataframe\">\n",
       "  <thead>\n",
       "    <tr style=\"text-align: right;\">\n",
       "      <th></th>\n",
       "      <th>id</th>\n",
       "      <th>age</th>\n",
       "      <th>income</th>\n",
       "      <th>spending_score</th>\n",
       "      <th>membership_years</th>\n",
       "      <th>purchase_frequency</th>\n",
       "      <th>last_purchase_amount</th>\n",
       "    </tr>\n",
       "  </thead>\n",
       "  <tbody>\n",
       "    <tr>\n",
       "      <th>count</th>\n",
       "      <td>1000.000000</td>\n",
       "      <td>1000.000000</td>\n",
       "      <td>1000.000000</td>\n",
       "      <td>1000.000000</td>\n",
       "      <td>1000.00000</td>\n",
       "      <td>1000.000000</td>\n",
       "      <td>1000.000000</td>\n",
       "    </tr>\n",
       "    <tr>\n",
       "      <th>mean</th>\n",
       "      <td>500.500000</td>\n",
       "      <td>43.783000</td>\n",
       "      <td>88500.800000</td>\n",
       "      <td>50.685000</td>\n",
       "      <td>5.46900</td>\n",
       "      <td>26.596000</td>\n",
       "      <td>492.348670</td>\n",
       "    </tr>\n",
       "    <tr>\n",
       "      <th>std</th>\n",
       "      <td>288.819436</td>\n",
       "      <td>15.042213</td>\n",
       "      <td>34230.771122</td>\n",
       "      <td>28.955175</td>\n",
       "      <td>2.85573</td>\n",
       "      <td>14.243654</td>\n",
       "      <td>295.744253</td>\n",
       "    </tr>\n",
       "    <tr>\n",
       "      <th>min</th>\n",
       "      <td>1.000000</td>\n",
       "      <td>18.000000</td>\n",
       "      <td>30004.000000</td>\n",
       "      <td>1.000000</td>\n",
       "      <td>1.00000</td>\n",
       "      <td>1.000000</td>\n",
       "      <td>10.400000</td>\n",
       "    </tr>\n",
       "    <tr>\n",
       "      <th>25%</th>\n",
       "      <td>250.750000</td>\n",
       "      <td>30.000000</td>\n",
       "      <td>57911.750000</td>\n",
       "      <td>26.000000</td>\n",
       "      <td>3.00000</td>\n",
       "      <td>15.000000</td>\n",
       "      <td>218.762500</td>\n",
       "    </tr>\n",
       "    <tr>\n",
       "      <th>50%</th>\n",
       "      <td>500.500000</td>\n",
       "      <td>45.000000</td>\n",
       "      <td>87845.500000</td>\n",
       "      <td>50.000000</td>\n",
       "      <td>5.00000</td>\n",
       "      <td>27.000000</td>\n",
       "      <td>491.595000</td>\n",
       "    </tr>\n",
       "    <tr>\n",
       "      <th>75%</th>\n",
       "      <td>750.250000</td>\n",
       "      <td>57.000000</td>\n",
       "      <td>116110.250000</td>\n",
       "      <td>76.000000</td>\n",
       "      <td>8.00000</td>\n",
       "      <td>39.000000</td>\n",
       "      <td>747.170000</td>\n",
       "    </tr>\n",
       "    <tr>\n",
       "      <th>max</th>\n",
       "      <td>1000.000000</td>\n",
       "      <td>69.000000</td>\n",
       "      <td>149973.000000</td>\n",
       "      <td>100.000000</td>\n",
       "      <td>10.00000</td>\n",
       "      <td>50.000000</td>\n",
       "      <td>999.740000</td>\n",
       "    </tr>\n",
       "  </tbody>\n",
       "</table>\n",
       "</div>"
      ],
      "text/plain": [
       "                id          age         income  spending_score  \\\n",
       "count  1000.000000  1000.000000    1000.000000     1000.000000   \n",
       "mean    500.500000    43.783000   88500.800000       50.685000   \n",
       "std     288.819436    15.042213   34230.771122       28.955175   \n",
       "min       1.000000    18.000000   30004.000000        1.000000   \n",
       "25%     250.750000    30.000000   57911.750000       26.000000   \n",
       "50%     500.500000    45.000000   87845.500000       50.000000   \n",
       "75%     750.250000    57.000000  116110.250000       76.000000   \n",
       "max    1000.000000    69.000000  149973.000000      100.000000   \n",
       "\n",
       "       membership_years  purchase_frequency  last_purchase_amount  \n",
       "count        1000.00000         1000.000000           1000.000000  \n",
       "mean            5.46900           26.596000            492.348670  \n",
       "std             2.85573           14.243654            295.744253  \n",
       "min             1.00000            1.000000             10.400000  \n",
       "25%             3.00000           15.000000            218.762500  \n",
       "50%             5.00000           27.000000            491.595000  \n",
       "75%             8.00000           39.000000            747.170000  \n",
       "max            10.00000           50.000000            999.740000  "
      ]
     },
     "execution_count": 8,
     "metadata": {},
     "output_type": "execute_result"
    }
   ],
   "source": [
    "#statistics on the dataset\n",
    "df.describe()"
   ]
  },
  {
   "cell_type": "markdown",
   "id": "77839eb6",
   "metadata": {},
   "source": [
    "## Data Cleaning"
   ]
  },
  {
   "cell_type": "code",
   "execution_count": 9,
   "id": "d770365b",
   "metadata": {},
   "outputs": [
    {
     "name": "stdout",
     "output_type": "stream",
     "text": [
      "id                      0\n",
      "age                     0\n",
      "gender                  0\n",
      "income                  0\n",
      "spending_score          0\n",
      "membership_years        0\n",
      "purchase_frequency      0\n",
      "preferred_category      0\n",
      "last_purchase_amount    0\n",
      "dtype: int64\n"
     ]
    }
   ],
   "source": [
    "#Check for missing Values\n",
    "missing_values = df.isnull().sum()\n",
    "print(missing_values)"
   ]
  },
  {
   "cell_type": "code",
   "execution_count": 10,
   "id": "b2bafdd2",
   "metadata": {},
   "outputs": [
    {
     "data": {
      "text/plain": [
       "0"
      ]
     },
     "execution_count": 10,
     "metadata": {},
     "output_type": "execute_result"
    }
   ],
   "source": [
    "# check for duplicate values\n",
    "df.duplicated().sum()"
   ]
  },
  {
   "cell_type": "markdown",
   "id": "fb862cff",
   "metadata": {},
   "source": [
    "Obsevation\n",
    "\n",
    "- There are no duplicates or missing values in our dataset."
   ]
  },
  {
   "cell_type": "markdown",
   "id": "2da2e490",
   "metadata": {},
   "source": [
    "### Feature Engineering"
   ]
  },
  {
   "cell_type": "code",
   "execution_count": 11,
   "id": "14976d73",
   "metadata": {},
   "outputs": [],
   "source": [
    "df_encoded = pd.get_dummies(df, columns=['gender', 'preferred_category'], drop_first=True)\n"
   ]
  },
  {
   "cell_type": "code",
   "execution_count": 13,
   "id": "2a121f50",
   "metadata": {},
   "outputs": [
    {
     "data": {
      "text/html": [
       "<div>\n",
       "<style scoped>\n",
       "    .dataframe tbody tr th:only-of-type {\n",
       "        vertical-align: middle;\n",
       "    }\n",
       "\n",
       "    .dataframe tbody tr th {\n",
       "        vertical-align: top;\n",
       "    }\n",
       "\n",
       "    .dataframe thead th {\n",
       "        text-align: right;\n",
       "    }\n",
       "</style>\n",
       "<table border=\"1\" class=\"dataframe\">\n",
       "  <thead>\n",
       "    <tr style=\"text-align: right;\">\n",
       "      <th></th>\n",
       "      <th>id</th>\n",
       "      <th>age</th>\n",
       "      <th>income</th>\n",
       "      <th>spending_score</th>\n",
       "      <th>membership_years</th>\n",
       "      <th>purchase_frequency</th>\n",
       "      <th>last_purchase_amount</th>\n",
       "      <th>gender_Male</th>\n",
       "      <th>gender_Other</th>\n",
       "      <th>preferred_category_Electronics</th>\n",
       "      <th>preferred_category_Groceries</th>\n",
       "      <th>preferred_category_Home &amp; Garden</th>\n",
       "      <th>preferred_category_Sports</th>\n",
       "    </tr>\n",
       "  </thead>\n",
       "  <tbody>\n",
       "    <tr>\n",
       "      <th>0</th>\n",
       "      <td>1</td>\n",
       "      <td>38</td>\n",
       "      <td>99342</td>\n",
       "      <td>90</td>\n",
       "      <td>3</td>\n",
       "      <td>24</td>\n",
       "      <td>113.53</td>\n",
       "      <td>False</td>\n",
       "      <td>False</td>\n",
       "      <td>False</td>\n",
       "      <td>True</td>\n",
       "      <td>False</td>\n",
       "      <td>False</td>\n",
       "    </tr>\n",
       "    <tr>\n",
       "      <th>1</th>\n",
       "      <td>2</td>\n",
       "      <td>21</td>\n",
       "      <td>78852</td>\n",
       "      <td>60</td>\n",
       "      <td>2</td>\n",
       "      <td>42</td>\n",
       "      <td>41.93</td>\n",
       "      <td>False</td>\n",
       "      <td>False</td>\n",
       "      <td>False</td>\n",
       "      <td>False</td>\n",
       "      <td>False</td>\n",
       "      <td>True</td>\n",
       "    </tr>\n",
       "    <tr>\n",
       "      <th>2</th>\n",
       "      <td>3</td>\n",
       "      <td>60</td>\n",
       "      <td>126573</td>\n",
       "      <td>30</td>\n",
       "      <td>2</td>\n",
       "      <td>28</td>\n",
       "      <td>424.36</td>\n",
       "      <td>False</td>\n",
       "      <td>False</td>\n",
       "      <td>False</td>\n",
       "      <td>False</td>\n",
       "      <td>False</td>\n",
       "      <td>False</td>\n",
       "    </tr>\n",
       "    <tr>\n",
       "      <th>3</th>\n",
       "      <td>4</td>\n",
       "      <td>40</td>\n",
       "      <td>47099</td>\n",
       "      <td>74</td>\n",
       "      <td>9</td>\n",
       "      <td>5</td>\n",
       "      <td>991.93</td>\n",
       "      <td>False</td>\n",
       "      <td>True</td>\n",
       "      <td>False</td>\n",
       "      <td>False</td>\n",
       "      <td>True</td>\n",
       "      <td>False</td>\n",
       "    </tr>\n",
       "    <tr>\n",
       "      <th>4</th>\n",
       "      <td>5</td>\n",
       "      <td>65</td>\n",
       "      <td>140621</td>\n",
       "      <td>21</td>\n",
       "      <td>3</td>\n",
       "      <td>25</td>\n",
       "      <td>347.08</td>\n",
       "      <td>False</td>\n",
       "      <td>False</td>\n",
       "      <td>True</td>\n",
       "      <td>False</td>\n",
       "      <td>False</td>\n",
       "      <td>False</td>\n",
       "    </tr>\n",
       "  </tbody>\n",
       "</table>\n",
       "</div>"
      ],
      "text/plain": [
       "   id  age  income  spending_score  membership_years  purchase_frequency  \\\n",
       "0   1   38   99342              90                 3                  24   \n",
       "1   2   21   78852              60                 2                  42   \n",
       "2   3   60  126573              30                 2                  28   \n",
       "3   4   40   47099              74                 9                   5   \n",
       "4   5   65  140621              21                 3                  25   \n",
       "\n",
       "   last_purchase_amount  gender_Male  gender_Other  \\\n",
       "0                113.53        False         False   \n",
       "1                 41.93        False         False   \n",
       "2                424.36        False         False   \n",
       "3                991.93        False          True   \n",
       "4                347.08        False         False   \n",
       "\n",
       "   preferred_category_Electronics  preferred_category_Groceries  \\\n",
       "0                           False                          True   \n",
       "1                           False                         False   \n",
       "2                           False                         False   \n",
       "3                           False                         False   \n",
       "4                            True                         False   \n",
       "\n",
       "   preferred_category_Home & Garden  preferred_category_Sports  \n",
       "0                             False                      False  \n",
       "1                             False                       True  \n",
       "2                             False                      False  \n",
       "3                              True                      False  \n",
       "4                             False                      False  "
      ]
     },
     "execution_count": 13,
     "metadata": {},
     "output_type": "execute_result"
    }
   ],
   "source": [
    "#display the first first rows\n",
    "df_encoded.head()"
   ]
  },
  {
   "cell_type": "markdown",
   "id": "8ff1204c",
   "metadata": {},
   "source": [
    "##  Exploratory Data Analysis(EDA)"
   ]
  },
  {
   "cell_type": "code",
   "execution_count": null,
   "id": "3b873226",
   "metadata": {},
   "outputs": [],
   "source": []
  },
  {
   "cell_type": "code",
   "execution_count": null,
   "id": "49e0bddd",
   "metadata": {},
   "outputs": [],
   "source": []
  },
  {
   "cell_type": "markdown",
   "id": "8c456b6b",
   "metadata": {},
   "source": [
    "#### - Univariate Analysis"
   ]
  },
  {
   "cell_type": "code",
   "execution_count": 16,
   "id": "6d34166b",
   "metadata": {},
   "outputs": [
    {
     "name": "stderr",
     "output_type": "stream",
     "text": [
      "C:\\Users\\user\\anaconda3\\Lib\\site-packages\\seaborn\\_oldcore.py:1119: FutureWarning: use_inf_as_na option is deprecated and will be removed in a future version. Convert inf values to NaN before operating instead.\n",
      "  with pd.option_context('mode.use_inf_as_na', True):\n"
     ]
    },
    {
     "data": {
      "image/png": "[encoded data removed]",
      "text/plain": [
       "<Figure size 1000x600 with 1 Axes>"
      ]
     },
     "metadata": {},
     "output_type": "display_data"
    }
   ],
   "source": [
    "#Age Distribution\n",
    "plt.figure(figsize=(10, 6))\n",
    "sns.histplot(df['age'], bins=20, kde=True)\n",
    "plt.title('Age Distribution')\n",
    "plt.xlabel('Age')\n",
    "plt.ylabel('Frequency')\n",
    "plt.show()\n"
   ]
  },
  {
   "cell_type": "markdown",
   "id": "a9040475",
   "metadata": {},
   "source": [
    "- Most customers are aged between 30 and 60 years, with a peak around 45 years. There is a smaller number of younger and older customers."
   ]
  },
  {
   "cell_type": "code",
   "execution_count": 17,
   "id": "22264550",
   "metadata": {},
   "outputs": [
    {
     "name": "stderr",
     "output_type": "stream",
     "text": [
      "C:\\Users\\user\\anaconda3\\Lib\\site-packages\\seaborn\\_oldcore.py:1119: FutureWarning: use_inf_as_na option is deprecated and will be removed in a future version. Convert inf values to NaN before operating instead.\n",
      "  with pd.option_context('mode.use_inf_as_na', True):\n"
     ]
    },
    {
     "data": {
      "image/png": "[encoded data removed]",
      "text/plain": [
       "<Figure size 1000x600 with 1 Axes>"
      ]
     },
     "metadata": {},
     "output_type": "display_data"
    }
   ],
   "source": [
    "#Income Distribution\n",
    "plt.figure(figsize=(10, 6))\n",
    "sns.histplot(df['income'], bins=20, kde=True)\n",
    "plt.title('Income Distribution')\n",
    "plt.xlabel('Income')\n",
    "plt.ylabel('Frequency')\n",
    "plt.show()\n"
   ]
  },
  {
   "cell_type": "markdown",
   "id": "cd264f52",
   "metadata": {},
   "source": [
    "- Customer income is widely distributed, with a significant number of customers earning between $ 50,000  and  $ 120,000 annually.\n",
    "There are fewer customers in the lower and higher income ranges."
   ]
  },
  {
   "cell_type": "code",
   "execution_count": 25,
   "id": "1b94c2fc",
   "metadata": {},
   "outputs": [
    {
     "name": "stderr",
     "output_type": "stream",
     "text": [
      "C:\\Users\\user\\anaconda3\\Lib\\site-packages\\seaborn\\_oldcore.py:1119: FutureWarning: use_inf_as_na option is deprecated and will be removed in a future version. Convert inf values to NaN before operating instead.\n",
      "  with pd.option_context('mode.use_inf_as_na', True):\n"
     ]
    },
    {
     "data": {
      "image/png": "[encoded data removed]",
      "text/plain": [
       "<Figure size 1000x600 with 1 Axes>"
      ]
     },
     "metadata": {},
     "output_type": "display_data"
    }
   ],
   "source": [
    "## Spending Score Distribution\n",
    "plt.figure(figsize=(10, 6))\n",
    "sns.histplot(df['spending_score'], bins=20, kde=True)\n",
    "plt.title('Spending Score Distribution')\n",
    "plt.xlabel('Spending Score')\n",
    "plt.ylabel('Frequency')\n",
    "plt.show()"
   ]
  },
  {
   "cell_type": "markdown",
   "id": "b4ccc4d7",
   "metadata": {},
   "source": [
    "- Spending scores are fairly evenly distributed, but there is a noticeable concentration around the 50-75 range, indicating a significant portion of customers with moderate to high spending behavior."
   ]
  },
  {
   "cell_type": "markdown",
   "id": "636c8fe2",
   "metadata": {},
   "source": [
    "#### -Bivariate Analysis"
   ]
  },
  {
   "cell_type": "code",
   "execution_count": null,
   "id": "5ae1fc29",
   "metadata": {},
   "outputs": [],
   "source": []
  },
  {
   "cell_type": "code",
   "execution_count": null,
   "id": "a6c99c1a",
   "metadata": {},
   "outputs": [],
   "source": []
  },
  {
   "cell_type": "code",
   "execution_count": null,
   "id": "36b506aa",
   "metadata": {},
   "outputs": [],
   "source": []
  },
  {
   "cell_type": "code",
   "execution_count": 22,
   "id": "a95ec3fd",
   "metadata": {},
   "outputs": [
    {
     "data": {
      "image/png": "[encoded data removed]",
      "text/plain": [
       "<Figure size 1000x600 with 1 Axes>"
      ]
     },
     "metadata": {},
     "output_type": "display_data"
    }
   ],
   "source": [
    "# Segmentation Insights\n",
    "## Preferred Category Distribution\n",
    "plt.figure(figsize=(10, 6))\n",
    "sns.countplot(x='preferred_category', data=df)\n",
    "plt.title('Preferred Category Distribution')\n",
    "plt.xlabel('Preferred Category')\n",
    "plt.ylabel('Count')\n",
    "plt.show()"
   ]
  },
  {
   "cell_type": "markdown",
   "id": "15625a7b",
   "metadata": {},
   "source": [
    "- Sports is the most preferred category, followed by Groceries, Electronics, Clothing, and Home & Garden. This distribution indicates that marketing strategies should prioritize the Sports category for maximum impact, followed by Groceries and Electronics."
   ]
  },
  {
   "cell_type": "code",
   "execution_count": 23,
   "id": "d8ef8186",
   "metadata": {},
   "outputs": [
    {
     "data": {
      "image/png": "[encoded data removed]",
      "text/plain": [
       "<Figure size 1000x600 with 1 Axes>"
      ]
     },
     "metadata": {},
     "output_type": "display_data"
    }
   ],
   "source": [
    "## Gender Distribution\n",
    "plt.figure(figsize=(10, 6))\n",
    "sns.countplot(x='gender', data=df)\n",
    "plt.title('Gender Distribution')\n",
    "plt.xlabel('Gender')\n",
    "plt.ylabel('Count')\n",
    "plt.show()"
   ]
  },
  {
   "cell_type": "markdown",
   "id": "24775feb",
   "metadata": {},
   "source": [
    "- The dataset has a higher number of male customers, followed by those identified as 'Other', and then female customers. This indicates that marketing messages should be primarily tailored to appeal to male customers, with additional considerations for the 'Other' and female groups."
   ]
  },
  {
   "cell_type": "code",
   "execution_count": null,
   "id": "a0e2b069",
   "metadata": {},
   "outputs": [],
   "source": []
  },
  {
   "cell_type": "code",
   "execution_count": null,
   "id": "07808556",
   "metadata": {},
   "outputs": [],
   "source": []
  },
  {
   "cell_type": "code",
   "execution_count": null,
   "id": "c72289a3",
   "metadata": {},
   "outputs": [],
   "source": []
  }
 ],
 "metadata": {
  "kernelspec": {
   "display_name": "Python (learn-env)",
   "language": "python",
   "name": "learn-env"
  },
  "language_info": {
   "codemirror_mode": {
    "name": "ipython",
    "version": 3
   },
   "file_extension": ".py",
   "mimetype": "text/x-python",
   "name": "python",
   "nbconvert_exporter": "python",
   "pygments_lexer": "ipython3",
   "version": "3.11.5"
  }
 },
 "nbformat": 4,
 "nbformat_minor": 5
}
